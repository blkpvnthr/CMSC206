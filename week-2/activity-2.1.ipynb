{
 "cells": [
  {
   "cell_type": "markdown",
   "id": "9dbaf20d-8a28-494c-9d52-19217970eec7",
   "metadata": {},
   "source": [
    "# Activity 2.1 Sideways Tree"
   ]
  },
  {
   "cell_type": "markdown",
   "id": "dd390baa-b3da-4945-a56f-385935c8f4b4",
   "metadata": {},
   "source": [
    "<p>Below is the Python script I wrote based on the tutorial and the assigned task. This script generates a rightward-pointing sideways tree, where the user can specify the maximum number of stars in the center row.</p>"
   ]
  },
  {
   "cell_type": "code",
   "execution_count": 3,
   "id": "5326b502-0c81-431b-8d51-943c9b245421",
   "metadata": {},
   "outputs": [
    {
     "name": "stdin",
     "output_type": "stream",
     "text": [
      "Enter the maximum number of stars in the center row:  15\n"
     ]
    },
    {
     "name": "stdout",
     "output_type": "stream",
     "text": [
      "*\n",
      "***\n",
      "*****\n",
      "*******\n",
      "*********\n",
      "***********\n",
      "*************\n",
      "***************\n",
      "*************\n",
      "***********\n",
      "*********\n",
      "*******\n",
      "*****\n",
      "***\n",
      "*\n"
     ]
    }
   ],
   "source": [
    "def draw_sideways_tree(max_stars):\n",
    "    # Upper half of the tree\n",
    "    for i in range(1, max_stars + 1, 2):\n",
    "        print(\"*\" * i)\n",
    "    \n",
    "    # Lower half of the tree\n",
    "    for i in range(max_stars - 2, 0, -2):\n",
    "        print(\"*\" * i)\n",
    "\n",
    "# Allow user to specify the maximum number of stars\n",
    "max_stars = int(input(\"Enter the maximum number of stars in the center row: \"))\n",
    "draw_sideways_tree(max_stars)\n"
   ]
  },
  {
   "cell_type": "markdown",
   "id": "a2596a25-6334-4304-bc68-a8516e6583d7",
   "metadata": {},
   "source": [
    "## Lessons Learned\n",
    "\n",
    "1. #### Mastering Loops and Iterations\n",
    " - The tutorial reinforced my understanding of for and while loops in Python.\n",
    " - I learned different ways to control loops using break and continue effectively.\n",
    " - Using range(start, stop, step) was particularly useful for generating odd-numbered lines for the tree.\n",
    "\n",
    "2. #### Formatting Output for Visual Patterns\n",
    " - Creating a structured output using loops was challenging but rewarding.\n",
    " - Understanding how to manipulate nested loops helped in creating the tree shape dynamically.\n",
    " - The ability to adjust the shape based on user input made the program more interactive.</p>"
   ]
  },
  {
   "cell_type": "markdown",
   "id": "be2f9fa1-b497-4a5e-b544-7660eed4de4b",
   "metadata": {},
   "source": [
    "## Challenges Faced\n",
    "- Ensuring Proper Shape of the Tree: Getting the tree to appear symmetrical required careful management of the increment and decrement steps in the loop.\n",
    "- Handling User Input: I had to validate that the user enters a valid number (e.g., only odd numbers for better symmetry)."
   ]
  },
  {
   "cell_type": "markdown",
   "id": "934c46d9-b99c-466b-89af-33f29281e6a7",
   "metadata": {},
   "source": [
    "## Questions for Classmates\n",
    "1. How would you modify the code to allow users to specify whether they want an odd or even maximum row size?\n",
    "2. What other shapes or patterns can you generate using loops? Share a creative example!"
   ]
  }
 ],
 "metadata": {
  "kernelspec": {
   "display_name": "Python 3 (ipykernel)",
   "language": "python",
   "name": "python3"
  },
  "language_info": {
   "codemirror_mode": {
    "name": "ipython",
    "version": 3
   },
   "file_extension": ".py",
   "mimetype": "text/x-python",
   "name": "python",
   "nbconvert_exporter": "python",
   "pygments_lexer": "ipython3",
   "version": "3.12.7"
  }
 },
 "nbformat": 4,
 "nbformat_minor": 5
}
