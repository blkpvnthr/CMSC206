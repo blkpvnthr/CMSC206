{
 "cells": [
  {
   "cell_type": "markdown",
   "id": "2c3a04c9-9326-47f6-824c-830964800fd7",
   "metadata": {},
   "source": [
    "# HW-1: Python Arithmetic and Conversion Assignment"
   ]
  },
  {
   "cell_type": "markdown",
   "id": "608a9683-448a-4669-9f72-2e31363814a5",
   "metadata": {},
   "source": [
    "<p>Asmaa Abdul-Amin <br> CRN#: 32016</p>"
   ]
  },
  {
   "cell_type": "code",
   "execution_count": 6,
   "id": "2146ead5-866f-44f4-9dee-9ffdfd2f1b96",
   "metadata": {},
   "outputs": [
    {
     "name": "stdin",
     "output_type": "stream",
     "text": [
      "Enter the first number:  10\n",
      "Enter the second number:  5\n"
     ]
    },
    {
     "name": "stdout",
     "output_type": "stream",
     "text": [
      "\n",
      "Results:\n",
      "Addition: 15.0\n",
      "Subtraction: 5.0\n",
      "Multiplication: 50.0\n",
      "Division: 2.0\n",
      "Modulus: 0.0\n"
     ]
    },
    {
     "name": "stdin",
     "output_type": "stream",
     "text": [
      "\n",
      "Enter a third number to calculate the average:  15\n"
     ]
    },
    {
     "name": "stdout",
     "output_type": "stream",
     "text": [
      "The average of the three numbers is: 10.0\n"
     ]
    }
   ],
   "source": [
    "# Part 1: Arithmetic Operations\n",
    "# Prompting user for two numbers\n",
    "num1 = float(input(\"Enter the first number: \"))\n",
    "num2 = float(input(\"Enter the second number: \"))\n",
    "\n",
    "# Performing arithmetic operations\n",
    "addition = num1 + num2\n",
    "subtraction = num1 - num2\n",
    "multiplication = num1 * num2\n",
    "division = num1 / num2 if num2 != 0 else \"Undefined (division by zero)\"\n",
    "modulus = num1 % num2 if num2 != 0 else \"Undefined (modulus by zero)\"\n",
    "\n",
    "# Displaying results\n",
    "print(\"\\nResults:\")\n",
    "print(f\"Addition: {addition}\")\n",
    "print(f\"Subtraction: {subtraction}\")\n",
    "print(f\"Multiplication: {multiplication}\")\n",
    "print(f\"Division: {division}\")\n",
    "print(f\"Modulus: {modulus}\")\n",
    "\n",
    "# Enhancement: Asking for a third number and calculating average\n",
    "num3 = float(input(\"\\nEnter a third number to calculate the average: \"))\n",
    "average = (num1 + num2 + num3) / 3\n",
    "print(f\"The average of the three numbers is: {average}\")\n"
   ]
  },
  {
   "cell_type": "code",
   "execution_count": 7,
   "id": "7dca689f-e60c-4eb1-8a01-acbb7e348f2c",
   "metadata": {},
   "outputs": [
    {
     "name": "stdin",
     "output_type": "stream",
     "text": [
      "\n",
      "Enter temperature in Celsius:  25\n"
     ]
    },
    {
     "name": "stdout",
     "output_type": "stream",
     "text": [
      "25.0°C is equal to 77.0°F\n"
     ]
    },
    {
     "name": "stdin",
     "output_type": "stream",
     "text": [
      "Enter temperature in Fahrenheit:  77\n"
     ]
    },
    {
     "name": "stdout",
     "output_type": "stream",
     "text": [
      "77.0°F is equal to 25.0°C\n"
     ]
    },
    {
     "name": "stdin",
     "output_type": "stream",
     "text": [
      "\n",
      "Enter distance in miles:  10\n"
     ]
    },
    {
     "name": "stdout",
     "output_type": "stream",
     "text": [
      "10.0 miles is equal to 16.0934 kilometers\n"
     ]
    }
   ],
   "source": [
    "# Part 2: Temperature Conversion\n",
    "# Convert Celsius to Fahrenheit and vice versa\n",
    "celsius = float(input(\"\\nEnter temperature in Celsius: \"))\n",
    "fahrenheit = (celsius * 9/5) + 32\n",
    "print(f\"{celsius}°C is equal to {fahrenheit}°F\")\n",
    "\n",
    "fahrenheit_input = float(input(\"Enter temperature in Fahrenheit: \"))\n",
    "celsius_converted = (fahrenheit_input - 32) * 5/9\n",
    "print(f\"{fahrenheit_input}°F is equal to {celsius_converted}°C\")\n",
    "\n",
    "# Enhancement: Convert miles to kilometers\n",
    "miles = float(input(\"\\nEnter distance in miles: \"))\n",
    "kilometers = miles * 1.60934\n",
    "print(f\"{miles} miles is equal to {kilometers} kilometers\")"
   ]
  },
  {
   "cell_type": "code",
   "execution_count": null,
   "id": "fd1d4549-6290-4d64-8ed7-55e6f70d7258",
   "metadata": {},
   "outputs": [],
   "source": []
  }
 ],
 "metadata": {
  "kernelspec": {
   "display_name": "Python 3 (ipykernel)",
   "language": "python",
   "name": "python3"
  },
  "language_info": {
   "codemirror_mode": {
    "name": "ipython",
    "version": 3
   },
   "file_extension": ".py",
   "mimetype": "text/x-python",
   "name": "python",
   "nbconvert_exporter": "python",
   "pygments_lexer": "ipython3",
   "version": "3.12.2"
  }
 },
 "nbformat": 4,
 "nbformat_minor": 5
}
