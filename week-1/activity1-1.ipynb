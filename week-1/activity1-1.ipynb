{
 "cells": [
  {
   "cell_type": "code",
   "execution_count": 1,
   "id": "16726c19-538a-46ea-802a-64d34a00b04a",
   "metadata": {},
   "outputs": [
    {
     "name": "stdout",
     "output_type": "stream",
     "text": [
      "Welcome to Python!\n"
     ]
    }
   ],
   "source": [
    "print(\"Welcome to Python!\")"
   ]
  },
  {
   "cell_type": "code",
   "execution_count": 2,
   "id": "3ea77159-e78c-4e58-bc97-7292ff4ff263",
   "metadata": {},
   "outputs": [
    {
     "name": "stdout",
     "output_type": "stream",
     "text": [
      "6\n"
     ]
    }
   ],
   "source": [
    "num1 = 2\n",
    "num2 = 4\n",
    "result = num1 + num2\n",
    "print(result)"
   ]
  },
  {
   "cell_type": "code",
   "execution_count": 3,
   "id": "146e5cf4-a1b5-4781-9926-7331f9ac8a31",
   "metadata": {},
   "outputs": [
    {
     "name": "stdout",
     "output_type": "stream",
     "text": [
      "Adam Grey\n"
     ]
    }
   ],
   "source": [
    "fname = \"Adam\"\n",
    "sname = \" Grey\"\n",
    "fullname = fname + sname\n",
    "\n",
    "print(fullname)"
   ]
  },
  {
   "cell_type": "code",
   "execution_count": 4,
   "id": "6330bcb2-5c28-4d82-8ea2-70ff7992a9a1",
   "metadata": {},
   "outputs": [
    {
     "name": "stdout",
     "output_type": "stream",
     "text": [
      "False\n",
      "True\n",
      "False\n"
     ]
    }
   ],
   "source": [
    "o1 = True\n",
    "o2 = False\n",
    "r1 = (o1 and o2)\n",
    "print(r1)\n",
    "\n",
    "r2 = (o1 or o2)\n",
    "print(r2)\n",
    "\n",
    "r3 = not(o1)\n",
    "print(r3)"
   ]
  },
  {
   "cell_type": "code",
   "execution_count": 5,
   "id": "933f4288-a513-4d68-838e-b788297ac12a",
   "metadata": {},
   "outputs": [
    {
     "name": "stdout",
     "output_type": "stream",
     "text": [
      "6\n",
      "2\n",
      "8\n",
      "2.0\n"
     ]
    }
   ],
   "source": [
    "n1 = 4\n",
    "n2 = 2\n",
    "\n",
    "n1 += n2\n",
    "print(n1)\n",
    "n1 = 4\n",
    "\n",
    "n1 -= n2\n",
    "print(n1)\n",
    "n1 = 4\n",
    "\n",
    "n1 *= n2\n",
    "print(n1)\n",
    "n1 = 4\n",
    "\n",
    "n1 /= n2\n",
    "print(n1)"
   ]
  },
  {
   "cell_type": "code",
   "execution_count": 6,
   "id": "703ca934-612a-4947-b2de-b13582a477d9",
   "metadata": {},
   "outputs": [
    {
     "name": "stdout",
     "output_type": "stream",
     "text": [
      "False\n",
      "True\n",
      "True\n",
      "False\n",
      "True\n",
      "False\n"
     ]
    }
   ],
   "source": [
    "n1 = 10\n",
    "n2 = 5\n",
    "\n",
    "print(n1 == n2)\n",
    "print(n1 != n2)\n",
    "print(n1 > n2)\n",
    "print(n1 < n2)\n",
    "print(n1 >= n2)\n",
    "print(n1 <= n2)"
   ]
  },
  {
   "cell_type": "code",
   "execution_count": 18,
   "id": "e45bdcb8-63b9-4c4b-8a35-da47beda7818",
   "metadata": {},
   "outputs": [
    {
     "name": "stdout",
     "output_type": "stream",
     "text": [
      "Thank you for your visit\n",
      "\n",
      "You are eligible for juvenile treatment\n",
      "Thank you for your visit\n",
      "\n",
      "You are eligible for priority treatment.\n",
      "The insurance company will pay for you.\n",
      "Thank you for your visit\n"
     ]
    }
   ],
   "source": [
    "age = 67\n",
    "\n",
    "age2 = 55\n",
    "\n",
    "if age2 >= age:\n",
    "    print(\"You are eligible for priority treatment.\")\n",
    "\n",
    "print(\"Thank you for your visit\\n\")\n",
    "\n",
    "age = 10\n",
    "\n",
    "if age >= 65:\n",
    "    print(\"You are eligible for priority treatment.\")\n",
    "elif age > 18 and age < 65:\n",
    "    print(\"You are eligible for normal treatment\")\n",
    "elif age < 18:\n",
    "    print(\"You are eligible for juvenile treatment\")\n",
    "\n",
    "print(\"Thank you for your visit\\n\")\n",
    "\n",
    "age = 67\n",
    "insurance = \"yes\"\n",
    "\n",
    "if age >= 65:\n",
    "    print(\"You are eligible for priority treatment.\")\n",
    "    if insurance == \"yes\":\n",
    "        print(\"The insurance company will pay for you.\")\n",
    "    else:\n",
    "        print(\"You have to pay in advance.\")\n",
    "else:\n",
    "    print(\"You are eligible for normal treatment\")\n",
    "\n",
    "print(\"Thank you for your visit\")"
   ]
  },
  {
   "cell_type": "code",
   "execution_count": 19,
   "id": "95ab6b74-5c96-4271-a001-bae3abde9448",
   "metadata": {},
   "outputs": [
    {
     "name": "stdout",
     "output_type": "stream",
     "text": [
      "5\n",
      "10\n",
      "20\n",
      "25\n",
      "30\n",
      "35\n",
      "40\n",
      "45\n",
      "50\n"
     ]
    }
   ],
   "source": [
    "nums = [1, 2, 4, 5, 6, 7, 8, 9, 10]\n",
    "\n",
    "for n in nums:\n",
    "    print(5 * n)"
   ]
  },
  {
   "cell_type": "code",
   "execution_count": 20,
   "id": "183fdf68-b663-484c-9502-e514c93ab028",
   "metadata": {},
   "outputs": [
    {
     "name": "stdout",
     "output_type": "stream",
     "text": [
      "50\n",
      "45\n",
      "40\n",
      "35\n",
      "30\n",
      "25\n",
      "20\n",
      "15\n",
      "10\n",
      "5\n"
     ]
    }
   ],
   "source": [
    "x = 50\n",
    "\n",
    "while x > 0:\n",
    "    print(x)\n",
    "    x = x - 5"
   ]
  },
  {
   "cell_type": "code",
   "execution_count": 23,
   "id": "3fb3aef9-87b5-4e07-86d2-26f86ecd181b",
   "metadata": {},
   "outputs": [
    {
     "name": "stdout",
     "output_type": "stream",
     "text": [
      "Welcome to Python. This article explains the basics of Python for absolute beginners!\n",
      "Do something here\n",
      "Welcome to Python. This article explains the basics of Python for absolute beginners!\n",
      "Do some other stuff here\n",
      "\n",
      "30\n",
      "100\n",
      "40\n"
     ]
    }
   ],
   "source": [
    "def displayWelcome():\n",
    "    print(\"Welcome to Python. This article explains the basics of Python for absolute beginners!\")\n",
    "    return;\n",
    "\n",
    "displayWelcome()\n",
    "print(\"Do something here\")\n",
    "displayWelcome()\n",
    "print(\"Do some other stuff here\\n\")\n",
    "\n",
    "def addNumbers(n1, n2):\n",
    "    r = n1 + n2\n",
    "    return r;\n",
    "\n",
    "result = addNumbers(10, 20)\n",
    "print(result)\n",
    "\n",
    "result = addNumbers(40, 60)\n",
    "print(result)\n",
    "\n",
    "result = addNumbers(15, 25)\n",
    "print(result)"
   ]
  },
  {
   "cell_type": "code",
   "execution_count": 29,
   "id": "830d1e87-4501-402f-89f0-9f9f7ce3a66f",
   "metadata": {},
   "outputs": [
    {
     "name": "stdout",
     "output_type": "stream",
     "text": [
      "apple\n",
      "Mango\n",
      "apple\n",
      "Peach\n",
      "['apple', 'banana', True, '10', 'Mango']\n",
      "['apple', 'banana', True, '10', 'Mango', 0]\n",
      "['apple', 'banana', True, '10', 'Mango']\n",
      "['apple', True, '10', 'Mango']\n"
     ]
    }
   ],
   "source": [
    "randomlist = ['apple', 'banana', True, 10, 'Mango']\n",
    "\n",
    "print(randomlist[0])\n",
    "print(randomlist[4])\n",
    "\n",
    "# Define the list\n",
    "randomlist = ['apple', 'banana', True, '10', 'Mango']\n",
    "\n",
    "# Print the current value at index 0\n",
    "print(randomlist[0])\n",
    "\n",
    "# Assign a new value at index 0\n",
    "randomlist[0] = 'Peach'\n",
    "\n",
    "# Print the updated value\n",
    "print(randomlist[0])\n",
    "randomlist = ['apple', 'banana', True, '10', 'Mango']\n",
    "\n",
    "print(randomlist)\n",
    "\n",
    "# Add a new element\n",
    "randomlist.append(0)\n",
    "\n",
    "print(randomlist)\n",
    "\n",
    "randomlist = ['apple', 'banana', True, '10', 'Mango']\n",
    "\n",
    "print(randomlist)\n",
    "\n",
    "# Remove the second element\n",
    "del randomlist[1]\n",
    "\n",
    "print(randomlist)"
   ]
  },
  {
   "cell_type": "code",
   "execution_count": 34,
   "id": "14e9a2e1-5a7b-4dcb-a93b-64aac88d1e5e",
   "metadata": {},
   "outputs": [
    {
     "name": "stdout",
     "output_type": "stream",
     "text": [
      "banana\n",
      "Mango\n",
      "('apple', 'banana', True, '10', 'Mango')\n",
      "('apple', 'banana', True, '10', 'Mango')\n"
     ]
    }
   ],
   "source": [
    "randomtuple = ('apple', 'banana', True, '10', 'Mango')\n",
    "\n",
    "print(randomtuple[1])\n",
    "print(randomtuple[4])\n",
    "print(randomtuple)\n",
    "\n",
    "#del randomtuple\n",
    "\n",
    "print(randomtuple)"
   ]
  },
  {
   "cell_type": "code",
   "execution_count": 39,
   "id": "4a8ffe32-7050-4960-9411-4c2396d1a085",
   "metadata": {},
   "outputs": [
    {
     "name": "stdout",
     "output_type": "stream",
     "text": [
      "Honda\n",
      "Civic\n",
      "Honda\n",
      "Audi\n",
      "{'Make': 'Audi', 'Model': 'Civic', 'Year': 2010, 'Color': 'Black'}\n",
      "{'Model': 'Civic', 'Year': 2010, 'Color': 'Black'}\n",
      "{}\n"
     ]
    }
   ],
   "source": [
    "randomdict = {'Make': 'Honda', 'Model': 'Civic', 'Year': 2010, 'Color': 'Black'}\n",
    "\n",
    "print(randomdict['Make'])\n",
    "print(randomdict['Model'])\n",
    "print(randomdict['Make'])\n",
    "randomdict['Make'] = 'Audi'\n",
    "print(randomdict['Make'])\n",
    "# Displaying complete dictionary\n",
    "print(randomdict)\n",
    "\n",
    "# Deleting one element\n",
    "del randomdict['Make']\n",
    "print(randomdict)\n",
    "\n",
    "# Clearing whole dictionary\n",
    "randomdict.clear()\n",
    "print(randomdict)\n",
    "\n",
    "# Deleting dictionary itself\n",
    "#del randomdict\n",
    "#print(randomdict)\n",
    "\n"
   ]
  },
  {
   "cell_type": "code",
   "execution_count": 42,
   "id": "2ab71656-3b62-4233-b57f-44db44afa48f",
   "metadata": {},
   "outputs": [
    {
     "name": "stdin",
     "output_type": "stream",
     "text": [
      "Add inventory? [y/n]  y\n",
      "Make:  Mercedes Benz\n",
      "Model:  GLE43\n",
      "Year:  2024\n",
      "Miles:  500\n",
      "Add inventory? [y/n]  y\n",
      "Make:  Audi\n",
      "Model:  Q8\n",
      "Year:  2024\n",
      "Miles:  1000\n",
      "Add inventory? [y/n]  n\n"
     ]
    },
    {
     "name": "stdout",
     "output_type": "stream",
     "text": [
      "\n",
      "Here are your cars:\n",
      "Make: Mercedes Benz\n",
      "Model: GLE43\n",
      "Year: 2024\n",
      "Miles: 500\n",
      "\n",
      "Make: Audi\n",
      "Model: Q8\n",
      "Year: 2024\n",
      "Miles: 1000\n",
      "\n"
     ]
    }
   ],
   "source": [
    "cars = []\n",
    "\n",
    "add_inventory = input('Add inventory? [y/n] ')\n",
    "\n",
    "while add_inventory == 'y':\n",
    "    # Get car data from user\n",
    "    make = input('Make: ')\n",
    "    model = input('Model: ')\n",
    "    year = input('Year: ')\n",
    "    miles = input('Miles: ')\n",
    "\n",
    "    # Create car dictionary object and save it to list\n",
    "    car = {'Make': make, 'Model': model, 'Year': year, 'Miles': miles}\n",
    "    cars.append(car)\n",
    "\n",
    "    # Ask user if we should keep going\n",
    "    add_inventory = input('Add inventory? [y/n] ')\n",
    "\n",
    "print('')\n",
    "print('Here are your cars:')\n",
    "\n",
    "# Display all of our cars\n",
    "for c in cars:\n",
    "    print('Make: ' + c['Make'])\n",
    "    print('Model: ' + c['Model'])\n",
    "    print('Year: ' + c['Year'])\n",
    "    print('Miles: ' + c['Miles'])\n",
    "    print('')\n"
   ]
  },
  {
   "cell_type": "code",
   "execution_count": null,
   "id": "cb89190e-f89b-4019-831a-2fe5c189b266",
   "metadata": {},
   "outputs": [],
   "source": []
  }
 ],
 "metadata": {
  "kernelspec": {
   "display_name": "Python 3 (ipykernel)",
   "language": "python",
   "name": "python3"
  },
  "language_info": {
   "codemirror_mode": {
    "name": "ipython",
    "version": 3
   },
   "file_extension": ".py",
   "mimetype": "text/x-python",
   "name": "python",
   "nbconvert_exporter": "python",
   "pygments_lexer": "ipython3",
   "version": "3.12.2"
  }
 },
 "nbformat": 4,
 "nbformat_minor": 5
}
