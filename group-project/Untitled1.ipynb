{
 "cells": [
  {
   "cell_type": "code",
   "execution_count": 50,
   "id": "aefb1212-c7c8-4129-aa56-c683997ce63c",
   "metadata": {},
   "outputs": [
    {
     "ename": "AttributeError",
     "evalue": "'list' object has no attribute 'to_csv'",
     "output_type": "error",
     "traceback": [
      "\u001b[31m---------------------------------------------------------------------------\u001b[39m",
      "\u001b[31mAttributeError\u001b[39m                            Traceback (most recent call last)",
      "\u001b[36mCell\u001b[39m\u001b[36m \u001b[39m\u001b[32mIn[50]\u001b[39m\u001b[32m, line 21\u001b[39m\n\u001b[32m     19\u001b[39m \u001b[38;5;66;03m# Extract symbols\u001b[39;00m\n\u001b[32m     20\u001b[39m symbols = df[\u001b[33m\"\u001b[39m\u001b[33mSymbol\u001b[39m\u001b[33m\"\u001b[39m].tolist()\n\u001b[32m---> \u001b[39m\u001b[32m21\u001b[39m \u001b[43msymbols\u001b[49m\u001b[43m.\u001b[49m\u001b[43mto_csv\u001b[49m(\u001b[33m\"\u001b[39m\u001b[33mAerospace-Defense-Symbols-List.csv\u001b[39m\u001b[33m\"\u001b[39m)\n\u001b[32m     22\u001b[39m \u001b[38;5;66;03m# Fetch historical stock data for the last 6 months\u001b[39;00m\n\u001b[32m     23\u001b[39m start_date = \u001b[33m\"\u001b[39m\u001b[33m2025-01-01\u001b[39m\u001b[33m\"\u001b[39m\n",
      "\u001b[31mAttributeError\u001b[39m: 'list' object has no attribute 'to_csv'"
     ]
    }
   ],
   "source": [
    "# Import Required Libraries\n",
    "%matplotlib inline  \n",
    "import numpy as np\n",
    "import pandas as pd\n",
    "import yfinance as yf\n",
    "import mplfinance as mpf\n",
    "import matplotlib.pyplot as plt\n",
    "\n",
    "# Google Sheets CSV Export Link (Replace FILE_ID with your actual Google Sheets ID)\n",
    "google_sheets_csv_url = \"https://docs.google.com/spreadsheets/d/178otvH3EwuKdDMrFDU3vY1-unFuw_jEcnIwjRybW2c4/export?format=csv&gid=1651699115\"\n",
    "\n",
    "# Load stock symbols from Google Sheets\n",
    "df = pd.read_csv(\"defense_2025-03-08.csv\")\n",
    "\n",
    "# Ensure 'Symbol' column exists\n",
    "if 'Symbol' not in df.columns:\n",
    "    raise ValueError(\"Google Sheet must contain a 'Symbol' column.\")\n",
    "\n",
    "# Extract symbols\n",
    "symbols = df[\"Symbol\"].tolist()\n",
    "symbols.to_csv(\"Aerospace-Defense-Symbols-List.csv\")\n",
    "# Fetch historical stock data for the last 6 months\n",
    "start_date = \"2025-01-01\"\n",
    "end_date = \"2025-03-01\"\n",
    "\n",
    "# Download stock data with error handling\n",
    "stock_data = yf.download(symbols, start=start_date, end=end_date)\n",
    "\n",
    "# Identify and remove stocks with missing data\n",
    "failed_stocks = [symbol for symbol in symbols if symbol not in stock_data.columns]\n",
    "stock_data = stock_data.drop(columns=failed_stocks, errors='ignore')\n",
    "print(stock_data)\n",
    "# Log failed stocks\n",
    "if failed_stocks:\n",
    "    print(f\"\\n❌ The following stocks failed to download and were removed from analysis: {failed_stocks}\\n\")\n",
    "\n",
    "# Ensure there's enough valid stock data before continuing\n",
    "if stock_data.empty:\n",
    "    raise ValueError(\"No valid stock data available. Check if stock symbols are correct.\")\n",
    "print(stock_data.iloc[0].dropna())\n",
    "# Calculate total percentage return over the period\n",
    "returns = (stock_data.iloc[-1] - stock_data.iloc[0]) / stock_data.iloc[0] * 100\n",
    "\n",
    "# Get the top 5 performing stocks based on percentage return\n",
    "top_5_stocks = returns.nlargest(5).index.tolist()\n",
    "\n",
    "# Plot historical prices for the top 5 performing stocks\n",
    "plt.figure(figsize=(12, 6))\n",
    "for stock in top_5_stocks:\n",
    "    plt.plot(stock_data.index, stock_data[stock], label=stock)\n",
    "\n",
    "plt.title(\"Top 5 Performing Stocks - Last 6 Months\")\n",
    "plt.xlabel(\"Date\")\n",
    "plt.ylabel(\"Adjusted Close Price\")\n",
    "plt.legend()\n",
    "plt.grid()\n",
    "plt.show()\n"
   ]
  },
  {
   "cell_type": "code",
   "execution_count": null,
   "id": "93a0caa3-edd6-48d3-8119-0e51d498163a",
   "metadata": {},
   "outputs": [],
   "source": []
  },
  {
   "cell_type": "code",
   "execution_count": null,
   "id": "9a2c8281-271a-4266-8cf9-55686cb64968",
   "metadata": {},
   "outputs": [],
   "source": []
  },
  {
   "cell_type": "code",
   "execution_count": null,
   "id": "2b621585-f7ed-4b3f-9835-df07cbd63645",
   "metadata": {},
   "outputs": [],
   "source": []
  },
  {
   "cell_type": "code",
   "execution_count": null,
   "id": "c5ad8ec7-3645-445b-9ff5-d67e016ca53f",
   "metadata": {},
   "outputs": [],
   "source": []
  },
  {
   "cell_type": "code",
   "execution_count": null,
   "id": "6792408a-6eed-4ac5-8f4c-2d8dc4332b84",
   "metadata": {},
   "outputs": [],
   "source": []
  },
  {
   "cell_type": "code",
   "execution_count": null,
   "id": "130ec9cc-8894-4012-be14-43c73236bf48",
   "metadata": {},
   "outputs": [],
   "source": []
  },
  {
   "cell_type": "code",
   "execution_count": null,
   "id": "2d9e5dbe-a77a-48b6-9bc6-3acf67791c1f",
   "metadata": {},
   "outputs": [],
   "source": []
  },
  {
   "cell_type": "code",
   "execution_count": null,
   "id": "da8ba6ff-632d-4010-a4a2-c643d6fd30e9",
   "metadata": {},
   "outputs": [],
   "source": []
  },
  {
   "cell_type": "code",
   "execution_count": null,
   "id": "a4b1916a-ccf8-44b2-8e82-0844c8444651",
   "metadata": {},
   "outputs": [],
   "source": []
  },
  {
   "cell_type": "code",
   "execution_count": null,
   "id": "d39ced21-de64-4bbe-a6be-274589a2a945",
   "metadata": {},
   "outputs": [],
   "source": []
  },
  {
   "cell_type": "code",
   "execution_count": null,
   "id": "8a4283b0-55c5-4f1b-b6fc-48bc8e8fb3b3",
   "metadata": {},
   "outputs": [],
   "source": []
  },
  {
   "cell_type": "code",
   "execution_count": null,
   "id": "09dd75ca-625e-474c-aedc-3d40281cd2f0",
   "metadata": {},
   "outputs": [],
   "source": []
  }
 ],
 "metadata": {
  "kernelspec": {
   "display_name": "Python 3 (ipykernel)",
   "language": "python",
   "name": "python3"
  },
  "language_info": {
   "codemirror_mode": {
    "name": "ipython",
    "version": 3
   },
   "file_extension": ".py",
   "mimetype": "text/x-python",
   "name": "python",
   "nbconvert_exporter": "python",
   "pygments_lexer": "ipython3",
   "version": "3.11.11"
  }
 },
 "nbformat": 4,
 "nbformat_minor": 5
}
